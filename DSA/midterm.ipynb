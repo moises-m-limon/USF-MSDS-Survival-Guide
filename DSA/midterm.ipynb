{
 "cells": [
  {
   "cell_type": "code",
   "execution_count": 1,
   "metadata": {},
   "outputs": [],
   "source": [
    "import networkx as nx\n",
    "import matplotlib as plt"
   ]
  },
  {
   "cell_type": "code",
   "execution_count": 2,
   "metadata": {},
   "outputs": [
    {
     "name": "stdout",
     "output_type": "stream",
     "text": [
      "[0, 1, 2, 3, 4]\n"
     ]
    }
   ],
   "source": [
    "# Create a random graph\n",
    "G = nx.fast_gnp_random_graph(5, 0.7,directed=False)\n",
    "print(G.nodes)"
   ]
  },
  {
   "cell_type": "code",
   "execution_count": 3,
   "metadata": {},
   "outputs": [
    {
     "data": {
      "text/plain": [
       "[0, 2, 3]"
      ]
     },
     "execution_count": 3,
     "metadata": {},
     "output_type": "execute_result"
    }
   ],
   "source": [
    "list(G.neighbors(4))"
   ]
  },
  {
   "cell_type": "code",
   "execution_count": 19,
   "metadata": {},
   "outputs": [],
   "source": [
    "def graph_dfs(G, node,visited=set()):\n",
    "    if node in visited:\n",
    "        return\n",
    "    visited.add(node)\n",
    "    neighbors=list(G.neighbors(node))\n",
    "    for n in neighbors:\n",
    "        print(f'node: {node}\\nneighbors:{neighbors}')\n",
    "        graph_dfs(G, n, visited)"
   ]
  },
  {
   "cell_type": "code",
   "execution_count": 20,
   "metadata": {},
   "outputs": [
    {
     "name": "stdout",
     "output_type": "stream",
     "text": [
      "node: 0\n",
      "neighbors:[1, 3, 4]\n",
      "node: 1\n",
      "neighbors:[0, 2, 3]\n",
      "node: 1\n",
      "neighbors:[0, 2, 3]\n",
      "node: 2\n",
      "neighbors:[1, 3, 4]\n",
      "node: 2\n",
      "neighbors:[1, 3, 4]\n",
      "node: 3\n",
      "neighbors:[0, 1, 2, 4]\n",
      "node: 3\n",
      "neighbors:[0, 1, 2, 4]\n",
      "node: 3\n",
      "neighbors:[0, 1, 2, 4]\n",
      "node: 3\n",
      "neighbors:[0, 1, 2, 4]\n",
      "node: 4\n",
      "neighbors:[0, 2, 3]\n",
      "node: 4\n",
      "neighbors:[0, 2, 3]\n",
      "node: 4\n",
      "neighbors:[0, 2, 3]\n",
      "node: 2\n",
      "neighbors:[1, 3, 4]\n",
      "node: 1\n",
      "neighbors:[0, 2, 3]\n",
      "node: 0\n",
      "neighbors:[1, 3, 4]\n",
      "node: 0\n",
      "neighbors:[1, 3, 4]\n"
     ]
    }
   ],
   "source": [
    "graph_dfs(G,0)"
   ]
  },
  {
   "cell_type": "code",
   "execution_count": null,
   "metadata": {},
   "outputs": [],
   "source": []
  },
  {
   "cell_type": "code",
   "execution_count": null,
   "metadata": {},
   "outputs": [],
   "source": []
  }
 ],
 "metadata": {
  "kernelspec": {
   "display_name": "base",
   "language": "python",
   "name": "python3"
  },
  "language_info": {
   "codemirror_mode": {
    "name": "ipython",
    "version": 3
   },
   "file_extension": ".py",
   "mimetype": "text/x-python",
   "name": "python",
   "nbconvert_exporter": "python",
   "pygments_lexer": "ipython3",
   "version": "3.11.9"
  }
 },
 "nbformat": 4,
 "nbformat_minor": 2
}
